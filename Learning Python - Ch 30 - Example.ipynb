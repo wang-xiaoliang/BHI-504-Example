{
 "cells": [
  {
   "cell_type": "code",
   "execution_count": 1,
   "id": "a78a393c-1f41-434c-9c1d-e8bfd4a110ec",
   "metadata": {},
   "outputs": [],
   "source": [
    "class Number:\n",
    "    def __init__(self, start):                  # On Number(start)\n",
    "        self.data = start\n",
    "    def __sub__(self, other):                   # On instance - other\n",
    "        return Number(self.data - other)        # Result is a new instance"
   ]
  },
  {
   "cell_type": "code",
   "execution_count": 2,
   "id": "d02b8e3e-9377-4e8c-b0c6-9aee6e468412",
   "metadata": {},
   "outputs": [
    {
     "data": {
      "text/plain": [
       "3"
      ]
     },
     "execution_count": 2,
     "metadata": {},
     "output_type": "execute_result"
    }
   ],
   "source": [
    "from number import Number # Fetch class from module\n",
    "X = Number(5) # Number.__init__(X, 5)\n",
    "Y = X - 2 # Number.__sub__(X, 2)\n",
    "Y.data"
   ]
  },
  {
   "cell_type": "code",
   "execution_count": 3,
   "id": "e61ddc55-0f14-42ac-a451-9333a641b0b0",
   "metadata": {},
   "outputs": [],
   "source": [
    "# File squares.py\n",
    "\n",
    "class Squares:\n",
    "    def __init__(self, start, stop):    # Save state when created\n",
    "        self.value = start - 1\n",
    "        self.stop  = stop\n",
    "    def __iter__(self):                 # Get iterator object on iter\n",
    "        return self\n",
    "    def __next__(self):                 # Return a square on each iteration\n",
    "        if self.value == self.stop:     # Also called by next built-in\n",
    "            raise StopIteration\n",
    "        self.value += 1\n",
    "        return self.value ** 2"
   ]
  },
  {
   "cell_type": "code",
   "execution_count": 4,
   "id": "0ea75c9b-534f-4ca7-8fdc-3921619be073",
   "metadata": {},
   "outputs": [
    {
     "name": "stdout",
     "output_type": "stream",
     "text": [
      "1 4 9 16 25 "
     ]
    }
   ],
   "source": [
    "from squares import Squares\n",
    "for i in Squares(1, 5): # for calls iter, which calls __iter__\n",
    "    print(i, end=' ') # Each iteration calls __next__"
   ]
  }
 ],
 "metadata": {
  "kernelspec": {
   "display_name": "Python 3 (ipykernel)",
   "language": "python",
   "name": "python3"
  },
  "language_info": {
   "codemirror_mode": {
    "name": "ipython",
    "version": 3
   },
   "file_extension": ".py",
   "mimetype": "text/x-python",
   "name": "python",
   "nbconvert_exporter": "python",
   "pygments_lexer": "ipython3",
   "version": "3.10.6"
  }
 },
 "nbformat": 4,
 "nbformat_minor": 5
}
